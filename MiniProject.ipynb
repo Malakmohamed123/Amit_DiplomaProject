{
 "cells": [
  {
   "cell_type": "code",
   "execution_count": 5,
   "id": "10754e7c",
   "metadata": {},
   "outputs": [
    {
     "name": "stdout",
     "output_type": "stream",
     "text": [
      "please enter a command:add\n",
      "first number:1\n",
      "second number:2\n",
      "add_result is  3\n",
      "do you want to make another operation?:yes\n",
      "enter a command:s\n",
      "first number:3\n",
      "second number:2\n",
      "sub_result is  1\n",
      "do you want to make another operation?:no\n"
     ]
    }
   ],
   "source": [
    "#ty=input(\"please enter a command:\")\n",
    "#x=int(input(\"first number:\"))\n",
    "#y=int(input(\"second number:\"))\n",
    "def operation(ty,x,y):\n",
    "    if ty[0]=='s' or ty[0]=='S' or ty==\"-\":\n",
    "        sub_result=x-y\n",
    "        print(\"sub_result is \",sub_result)\n",
    "        return x-y\n",
    "    elif ty[0]=='a' or ty[0]=='A' or ty==\"+\":\n",
    "        add_result=x+y\n",
    "        print(\"add_result is \",add_result)\n",
    "        return x+y\n",
    "    elif ty[0]=='m' or ty[0]=='M' or ty==\"*\":\n",
    "        mult_result=x*y\n",
    "        print(\"mult_result is \",mult_result)\n",
    "        return x*y\n",
    "    elif ty[0]=='d' or ty[0]=='D' or ty==\"/\":\n",
    "        div_result=x/y\n",
    "        print(\"div_result is \",div_result)\n",
    "        return x/y\n",
    "ty=input(\"please enter a command:\")\n",
    "x=int(input(\"first number:\"))\n",
    "y=int(input(\"second number:\"))\n",
    "operation(ty,x,y)\n",
    "while True:\n",
    "    ques=input(\"do you want to make another operation?:\")\n",
    "    if ques=='yes':\n",
    "        ty=input(\"enter a command:\")\n",
    "        a=int(input(\"first number:\"))\n",
    "        b=int(input(\"second number:\"))\n",
    "        operation(ty,a,b)\n",
    "    elif ques=='no':\n",
    "        break\n",
    "    \n",
    "    \n"
   ]
  },
  {
   "cell_type": "code",
   "execution_count": null,
   "id": "d1b48196",
   "metadata": {},
   "outputs": [],
   "source": []
  },
  {
   "cell_type": "code",
   "execution_count": null,
   "id": "f799932c",
   "metadata": {},
   "outputs": [],
   "source": []
  },
  {
   "cell_type": "code",
   "execution_count": null,
   "id": "bf0d462e",
   "metadata": {},
   "outputs": [],
   "source": []
  },
  {
   "cell_type": "code",
   "execution_count": null,
   "id": "4660b852",
   "metadata": {},
   "outputs": [],
   "source": []
  },
  {
   "cell_type": "code",
   "execution_count": null,
   "id": "b966076a",
   "metadata": {},
   "outputs": [],
   "source": []
  },
  {
   "cell_type": "code",
   "execution_count": null,
   "id": "54c51085",
   "metadata": {},
   "outputs": [],
   "source": []
  }
 ],
 "metadata": {
  "kernelspec": {
   "display_name": "Python 3 (ipykernel)",
   "language": "python",
   "name": "python3"
  },
  "language_info": {
   "codemirror_mode": {
    "name": "ipython",
    "version": 3
   },
   "file_extension": ".py",
   "mimetype": "text/x-python",
   "name": "python",
   "nbconvert_exporter": "python",
   "pygments_lexer": "ipython3",
   "version": "3.9.12"
  }
 },
 "nbformat": 4,
 "nbformat_minor": 5
}
